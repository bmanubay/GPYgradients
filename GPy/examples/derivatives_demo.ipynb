{
 "cells": [
  {
   "cell_type": "code",
   "execution_count": 1,
   "metadata": {},
   "outputs": [
    {
     "data": {
      "text/html": [
       "<style>.container { width:100% !important; }</style>"
      ],
      "text/plain": [
       "<IPython.core.display.HTML object>"
      ]
     },
     "metadata": {},
     "output_type": "display_data"
    }
   ],
   "source": [
    "from IPython.core.display import display, HTML\n",
    "import GPy, numpy as np\n",
    "from matplotlib import pyplot as plt\n",
    "%matplotlib inline\n",
    "display(HTML(\"<style>.container { width:100% !important; }</style>\"))\n",
    "np.set_printoptions(precision=4, linewidth=200)\n",
    "np.random.seed(1)"
   ]
  },
  {
   "cell_type": "markdown",
   "metadata": {},
   "source": [
    "# Theory\n",
    "This notebook demonstrates how to use derivative observations and derivative sign observations with GP regression.\n",
    "\n",
    "Assume that we have observations $\\mathbf{y} = \\{y^{(i)} \\}_{i=1}^{N}$ from an unkown noisy latent process ($y^{(i)} = f(\\mathbf{x}^{(i)}) + \\epsilon^{(i)}$), from known locations $\\mathbf{X} = \\{\\mathbf{x}^{(i)}\\}_{i=1}^N$. We may assume that the noise follows any distribution.\n",
    "\n",
    "When handling derivative observations, we know something about the derivative values of the latent variables, this means that we have (possibly) noisy observations $\\tilde{\\mathbf{y}} =  \\{ \\tilde{y}^{(i)} \\}_{i=1}^M$ from the partial derivatives of the latent process ($\\tilde{y}^{(i)} = \\frac{\\partial f(\\tilde{\\mathbf{x}}^{(i)})}{\\partial \\tilde{\\mathbf{x}}^{(i)}_g} + \\epsilon_g^{(i)}$) from some known locations $\\tilde{\\mathbf{X}} = \\{\\tilde{\\mathbf{x}}^{(i)}\\}_{i=1}^M$. Again, the noise may follow any distribution.\n",
    "\n",
    "As always, in GP regression, we assume that the observations have a Gaussian Process prior and are interested in the posterior distribution of the latent variables $f = f(\\mathbf{x})$ and latent variable derivatives $\\tilde{f} = \\frac{\\partial f(\\tilde{\\mathbf{x}})}{\\partial \\tilde{\\mathbf{x}}_g }$ given some input locations can be derived from the Bayes' rule\n",
    "\\begin{equation}\n",
    "\\begin{aligned}\n",
    "&p(\\mathbf{f}, \\mathbf{\\tilde{f}}\\,|\\,\\mathbf{y}, \\tilde{\\mathbf{y}}, \\mathbf{X}, \\tilde{\\mathbf{X}}) = \\frac{p(\\mathbf{f}, \\mathbf{\\tilde{f}}\\,|\\, \\mathbf{X}, \\tilde{\\mathbf{X}})p(\\mathbf{y} \\,|\\,\\mathbf{f})p(\\tilde{\\mathbf{y}}\\,|\\,\\tilde{\\mathbf{f}})}{Z},\n",
    "\\end{aligned}\n",
    "\\end{equation}\n",
    "with the marginal likelihood\n",
    "\\begin{equation*}\n",
    "\\begin{aligned}\n",
    "&Z= p(\\mathbf{y},\\tilde{\\mathbf{y}} \\, |\\, \\mathbf{X}, \\mathbf{\\tilde{\\mathbf{X}}}) \\\\ &=\\int\\! p(\\mathbf{f}, \\tilde{\\mathbf{f}}| \\mathbf{X}, \\tilde{\\mathbf{X}})p(\\mathbf{y} \\,|\\, \\mathbf{f})p(\\tilde{\\mathbf{y}} \\,|\\, \\tilde{\\mathbf{f}}) \\text{d} \\mathbf{f} \\text{d} \\tilde{\\mathbf{f}}.\n",
    "\\end{aligned}\n",
    "\\end{equation*}\n",
    "\n",
    "In above, we need to know two new distributions:\n",
    "\n",
    "1. The joint distribution of the latent variables $p(\\mathbf{f}, \\tilde{\\mathbf{f}}\\,|\\, \\mathbf{X}, \\tilde{\\mathbf{X}})$. Let us first consider the joint distribution of the latent variables. With a Gaussian process prior:\\begin{equation} \\begin{aligned}\n",
    "&p\\left(\\left[ \\begin{matrix} \\mathbf{f} \\\\ \\mathbf{\\tilde{f}} \\end{matrix} \\right]\\,  \\middle| \\, \\left[\\begin{matrix} \\mathbf{X} \\\\ \\mathbf{\\tilde{X}}\\end{matrix} \\right]\\right)   =    \\text{N} \\left(\\left[ \\begin{matrix} \\mathbf{f} \\\\ \\tilde{\\mathbf{f}} \\end{matrix} \\right]\\, \\middle| \\, m\\left( \\left[ \\begin{matrix} \\mathbf{f} \\\\ \\tilde{\\mathbf{f}} \\end{matrix} \\right] \\right), \\left[ \\begin{matrix} \\mathbf{K_{f, f}} & \\mathbf{K_{f, \\tilde{f}}}  \\\\ \\mathbf{K_{ \\tilde{f},f}} & \\mathbf{K_{ \\tilde{f}, \\tilde{f}}} \\end{matrix} \\right]\\right).\n",
    "\\end{aligned}\n",
    "\\end{equation}\n",
    "We need to know the covariances between the latent functions values and their partial derivatives and two partial derivatives. However, this is straightforward as:\n",
    "\\begin{align*}\n",
    "\\text{cov} \\left({ \\frac{\\partial f^{(i)}}{\\partial x^{(i)}_g}, \\; f^{(j)} }\\right) &= \\frac{ \\partial }{\\partial x^{(i)}_g}\\; \\text{cov}\\left({ f^{(i)}, \\; f^{(j)}}\\right), \\\\\n",
    "\\text{cov}\\left({ \\frac{ \\partial f^{(i)}}{ \\partial x^{(i)}_g}, \\; \\frac{ \\partial f^{(j)}}{ \\partial x^{(j)}_h} }\\right) &= \\frac{\\partial^2 }{\\partial x^{(i)}_g \\partial x^{(j)}_h  }\\; \\text{cov}\\left({ f^{(i)}, \\; f^{(j)}}\\right)\n",
    "\\end{align*}\n",
    "Thus, we only need to know the first and second derivatives of the covariance function with respect to $\\mathbf{x}$.\n",
    "\n",
    "2. The likelihood of the derivative observations $p(\\tilde{\\mathbf{y}} \\,|\\, \\tilde{\\mathbf{f}})$. We may assume any likelihood for the derivative observations. How ever, two likelihoods are the most used:\n",
    "     1. Gaussian likelihood: \n",
    "    \\begin{equation} \n",
    "    p(\\tilde{\\mathbf{y}} \\,|\\, \\tilde{\\mathbf{f}}) = \\prod_{i=1}^M \\text{N}(\\tilde{y}^{(i)}|\\tilde{f}^{(i)}, \\sigma^2 ) \n",
    "    \\end{equation}\n",
    "     2. Probit likelihood with a tuning parameter:\n",
    "    \\begin{equation} \n",
    "    p(\\tilde{\\mathbf{y}} \\,|\\, \\tilde{\\mathbf{f}}) = \\prod_{i=1}^M \\boldsymbol{\\Phi} \\left( \\nu \\tilde{ y}^{(i)} \\tilde{f}^{(i)} \\right),\n",
    "    \\end{equation}\n",
    "    where $\\nu$ is a tuning parameter and $\\boldsymbol{\\Phi} \\left(x \\right) = \\int_{-\\infty}^x \\text{N} \\left( \\bar{x} \\,|\\, 0,1\\right) \\text{d} \\bar{x}$ "
   ]
  },
  {
   "cell_type": "markdown",
   "metadata": {},
   "source": [
    "# Example 1:  1 dimensional data with direct derivative observations"
   ]
  },
  {
   "cell_type": "markdown",
   "metadata": {},
   "source": [
    "Let us first generate the data:"
   ]
  },
  {
   "cell_type": "code",
   "execution_count": 53,
   "metadata": {},
   "outputs": [],
   "source": [
    "f = lambda x: np.sin(x)+0.1*(x-2.)**2-0.005*x**3\n",
    "fd = lambda x: np.cos(x)+0.2*(x-2.)-0.015*x**2\n",
    "N=100\n",
    "M=100\n",
    "sigma=0.05\n",
    "sigmader = 0.05\n",
    "x = np.array([np.linspace(1,10,N)]).T\n",
    "y = f(x) + np.array(sigma*np.random.normal(0,1,(N,1)))\n",
    "\n",
    "xd = np.array([np.linspace(2,8,M)]).T\n",
    "yd = fd(xd) + np.array(sigmader*np.random.normal(0,1,(M,1)))\n",
    "\n",
    "xpred = np.array([np.linspace(0,11,100)]).T\n",
    "ypred = f(xpred)\n",
    "ydpred = fd(xpred)"
   ]
  },
  {
   "cell_type": "code",
   "execution_count": 55,
   "metadata": {
    "collapsed": true
   },
   "outputs": [],
   "source": [
    "def plot_gp_vs_real(m, x, yreal, size_inputs, title, fixed_input=1, xlim=[0,11], ylim=[-1.5,3]):\n",
    "    fig, ax = plt.subplots()\n",
    "    ax.set_title(title)\n",
    "    plt.plot(x, yreal, \"r\", label='Real function')\n",
    "    rows = slice(0, size_inputs[0]) if fixed_input == 0 else slice(size_inputs[0], size_inputs[0]+size_inputs[1])\n",
    "    m.plot(fixed_inputs=[(1, fixed_input)], which_data_rows=rows, xlim=xlim, ylim=ylim, ax=ax)"
   ]
  },
  {
   "cell_type": "markdown",
   "metadata": {},
   "source": [
    "And let us then generate the model:"
   ]
  },
  {
   "cell_type": "code",
   "execution_count": 57,
   "metadata": {},
   "outputs": [
    {
     "name": "stdout",
     "output_type": "stream",
     "text": [
      "\n",
      "Name : gp\n",
      "Objective : -16.307000939016444\n",
      "Number of Parameters : 3\n",
      "Number of Optimization Parameters : 3\n",
      "Updates : True\n",
      "Parameters:\n",
      "  \u001b[1mgp.                                \u001b[0;0m  |  value  |  constraints  |  priors\n",
      "  \u001b[1mMultioutputKern.rbf.variance       \u001b[0;0m  |    0.2  |      +ve      |        \n",
      "  \u001b[1mMultioutputKern.rbf.lengthscale    \u001b[0;0m  |    1.5  |      +ve      |        \n",
      "  \u001b[1mmixed_noise.Gaussian_noise.variance\u001b[0;0m  |    0.1  |      +ve      |        \n",
      "                   Name                    |     Ratio     |  Difference   |  Analytical   |   Numerical   |   dF_ratio    \n",
      "---------------------------------------------------------------------------------------------------------------------------\n",
      "\u001b[92m gp.MultioutputKern.rbf.variance \u001b[0m          |   1.000000    |   0.000000    |  -10.445318   |  -10.445318   |     1e-06     \n",
      "\u001b[92m gp.MultioutputKern.rbf.lengthscale \u001b[0m       |   1.000000    |   0.000000    |   -1.503193   |   -1.503193   |     2e-07     \n",
      "\u001b[92m gp.mixed_noise.Gaussian_noise.variance \u001b[0m   |   1.000000    |   0.000000    |   89.153927   |   89.153927   |     1e-05     \n",
      "Running L-BFGS-B (Scipy implementation) Code:\n",
      "  runtime   i      f              |g|        \n",
      "    00s15  0002  -1.059847e+02   7.845032e+03 \n",
      "    01s40  0021  -2.906986e+02   7.273721e-07 \n",
      "Runtime:     01s40\n",
      "Optimization status: Converged\n",
      "\n",
      "\n",
      "Name : gp\n",
      "Objective : -290.6986443423483\n",
      "Number of Parameters : 3\n",
      "Number of Optimization Parameters : 3\n",
      "Updates : True\n",
      "Parameters:\n",
      "  \u001b[1mgp.                                \u001b[0;0m  |             value  |  constraints  |  priors\n",
      "  \u001b[1mMultioutputKern.rbf.variance       \u001b[0;0m  |     2.37471288448  |      +ve      |        \n",
      "  \u001b[1mMultioutputKern.rbf.lengthscale    \u001b[0;0m  |     2.45384945363  |      +ve      |        \n",
      "  \u001b[1mmixed_noise.Gaussian_noise.variance\u001b[0;0m  |  0.00238371542892  |      +ve      |        \n",
      "                   Name                    |     Ratio     |  Difference   |  Analytical   |   Numerical   |   dF_ratio    \n",
      "---------------------------------------------------------------------------------------------------------------------------\n",
      "\u001b[94m gp.MultioutputKern.rbf.variance \u001b[0m          |   0.819035    |   0.000004    |   0.000020    |   0.000017    |     1e-13     \n",
      "\u001b[92m gp.MultioutputKern.rbf.lengthscale \u001b[0m       |   1.027268    |   0.000005    |   -0.000192   |   -0.000197   |     1e-12     \n",
      "\u001b[92m gp.mixed_noise.Gaussian_noise.variance \u001b[0m   |   0.992670    |   0.000006    |   -0.000831   |   -0.000825   |     6e-12     \n"
     ]
    },
    {
     "data": {
      "image/png": "[encoded data removed]",
      "text/plain": [
       "<matplotlib.figure.Figure at 0x7ff804126208>"
      ]
     },
     "metadata": {},
     "output_type": "display_data"
    },
    {
     "data": {
      "image/png": "[encoded data removed]",
      "text/plain": [
       "<matplotlib.figure.Figure at 0x7ff8042054e0>"
      ]
     },
     "metadata": {},
     "output_type": "display_data"
    }
   ],
   "source": [
    "# squared exponential kernel:\n",
    "se = GPy.kern.RBF(input_dim = 1, lengthscale=1.5, variance=0.2)\n",
    "# We need to generate separate kernel for the derivative observations and give the created kernel as an input:\n",
    "se_der = GPy.kern.DiffKern(se, 0)\n",
    "\n",
    "#Then \n",
    "gauss = GPy.likelihoods.Gaussian(variance=sigma**2)\n",
    "gauss = GPy.likelihoods.Gaussian(variance=0.1)\n",
    "gauss_der = GPy.likelihoods.Gaussian(variance=sigma**2)\n",
    "\n",
    "# Then create the model, we give everything in lists, the order of the inputs indicates the order of the outputs\n",
    "# Now we have the regular observations first and derivative observations second, meaning that the kernels and\n",
    "# the likelihoods must follow the same order\n",
    "m = GPy.core.MultioutputGP(X_list=[x, xd], Y_list=[y, yd], kernel_list=[se, se_der], likelihood_list = [gauss, gauss])\n",
    "#m = GPy.core.MultioutputGP(X_list=[xd], Y_list=[yd], kernel_list=[se_der], likelihood_list = [gauss])\n",
    "#m = GPy.core.MultioutputGP(X_list=[x], Y_list=[y], kernel_list=[se], likelihood_list = [gauss])\n",
    "#Print the model before optimization\n",
    "print(m)\n",
    "\n",
    "# Optimize the model\n",
    "m.checkgrad(verbose=True)\n",
    "m.optimize(messages=1, ipython_notebook=True)\n",
    " # Print the model after optimization\n",
    "print(m)\n",
    "m.checkgrad(verbose=True)\n",
    "#Plot the model, the syntax is same as for multioutput models:\n",
    "#Derivatives:\n",
    "\n",
    "\n",
    "plot_gp_vs_real(m, xpred, ydpred, [x.shape[0], xd.shape[0]], title='Latent function derivatives', fixed_input=1)\n",
    "plot_gp_vs_real(m, xpred, ypred, [x.shape[0], xd.shape[0]], title='Latent function', fixed_input=0)\n",
    "\n",
    "#making predictions for the values:\n",
    "mu, var = m.predict_noiseless(Xnew=[xpred, np.empty((0,1))])"
   ]
  },
  {
   "cell_type": "code",
   "execution_count": null,
   "metadata": {},
   "outputs": [],
   "source": [
    "# squared exponential kernel:\n",
    "se = GPy.kern.RBF(input_dim = 1, lengthscale=1.5, variance=0.2)\n",
    "# We need to generate separate kernel for the derivative observations and give the created kernel as an input:\n",
    "se_der = GPy.kern.DiffKern(se, 0)\n",
    "\n",
    "#Then \n",
    "gauss = GPy.likelihoods.Gaussian(variance=sigma**2)\n",
    "gauss_der = GPy.likelihoods.Gaussian(variance=sigma**2)\n",
    "\n",
    "# Then create the model, we give everything in lists, the order of the inputs indicates the order of the outputs\n",
    "# Now we have the regular observations first and derivative observations second, meaning that the kernels and\n",
    "# the likelihoods must follow the same order\n",
    "m = GPy.core.MultioutputGP(X_list=[x, xd], Y_list=[y, yd], kernel_list=[se, se_der], likelihood_list = [gauss, gauss], inference_method=GPy.inference.latent_function_inference.Laplace())\n",
    "\n",
    "#Print the model before optimization\n",
    "print(m)\n",
    "\n",
    "# Optimize the model\n",
    "m.optimize(messages=1, ipython_notebook=True)\n",
    " # Print the model after optimization\n",
    "print(m)\n",
    "\n",
    "#Plot the model, the syntax is same as for multioutput models:\n",
    "#Derivatives:\n",
    "\n",
    "plot_gp_vs_real(m, xpred, ydpred, [x.shape[0], xd.shape[0]], title='Latent function derivatives', fixed_input=1)\n",
    "plot_gp_vs_real(m, xpred, ypred, [x.shape[0], xd.shape[0]], title='Latent function', fixed_input=0)\n",
    "\n",
    "\n",
    "#making predictions for the values:\n",
    "mu, var = m.predict_noiseless(Xnew=[xpred, np.empty((0,1))])"
   ]
  },
  {
   "cell_type": "markdown",
   "metadata": {},
   "source": [
    "And for comparison, without derivative observations:"
   ]
  },
  {
   "cell_type": "code",
   "execution_count": null,
   "metadata": {},
   "outputs": [],
   "source": [
    "# squared exponential kernel:\n",
    "se = GPy.kern.RBF(input_dim = 1, lengthscale=1.5, variance=0.2)\n",
    "# We need to generate separate kernel for the derivative observations and give the created kernel as an input:\n",
    "se_der = GPy.kern.DiffKern(se, 0)\n",
    "\n",
    "#Then \n",
    "gauss = GPy.likelihoods.Gaussian(variance=sigma**2)\n",
    "\n",
    "# Then create the model, we give everything in lists\n",
    "m = GPy.core.MultioutputGP(X_list=[x, np.empty((0,1))], Y_list=[y, np.empty((0,1))], kernel_list=[se, se_der], likelihood_list = [gauss, gauss])\n",
    "\n",
    "#Print the model before optimization\n",
    "print(m)\n",
    "\n",
    "# Optimize the model\n",
    "m.optimize(messages=1, ipython_notebook=True)\n",
    "\n",
    "# Print the model after optimization\n",
    "print(m)\n",
    "\n",
    "plot_gp_vs_real(m, xpred, ydpred, [x.shape[0], xd.shape[0]], title='Latent function derivatives', fixed_input=1)\n",
    "plot_gp_vs_real(m, xpred, ypred, [x.shape[0], xd.shape[0]], title='Latent function', fixed_input=0)"
   ]
  },
  {
   "cell_type": "markdown",
   "metadata": {
    "collapsed": true
   },
   "source": [
    "# Example 2:  1 dimensional data with monotonicity information"
   ]
  },
  {
   "cell_type": "code",
   "execution_count": null,
   "metadata": {},
   "outputs": [],
   "source": [
    "M=7\n",
    "xd = np.array([np.linspace(2,8,M)]).T\n",
    "yd = 2*(fd(xd)>0) -1"
   ]
  },
  {
   "cell_type": "code",
   "execution_count": null,
   "metadata": {},
   "outputs": [],
   "source": [
    "# squared exponential kernel:\n",
    "se = GPy.kern.RBF(input_dim = 1, lengthscale=1.5, variance=0.2)\n",
    "# We need to generate separate kernel for the derivative observations and give the created kernel as an input:\n",
    "se_der = GPy.kern.DiffKern(se, 0)\n",
    "\n",
    "#Then \n",
    "gauss = GPy.likelihoods.Gaussian(variance=sigma**2)\n",
    "probit = GPy.likelihoods.Binomial(gp_link = GPy.likelihoods.link_functions.Probit(nu=100, fixed=False))\n",
    "\n",
    "# Then create the model, we give everything in lists\n",
    "m = GPy.core.MultioutputGP(X_list=[x, xd], Y_list=[y, yd], kernel_list=[se, se_der], likelihood_list = [gauss, probit], inference_method=GPy.inference.latent_function_inference.EP(ep_mode=\"nested\"))\n",
    "\n",
    "#Print the model before optimization\n",
    "print(m)\n",
    "# Optimize the model\n",
    "m.optimize(messages=1, ipython_notebook=True)\n",
    "\n",
    "# Print the model after optimization\n",
    "print(m)\n",
    "\n",
    "\n",
    "plot_gp_vs_real(m, xpred, ypred, [x.shape[0], xd.shape[0]], title='Latent function', fixed_input=0)"
   ]
  },
  {
   "cell_type": "code",
   "execution_count": null,
   "metadata": {},
   "outputs": [],
   "source": [
    "# squared exponential kernel:\n",
    "se = GPy.kern.RBF(input_dim = 1, lengthscale=1.5, variance=0.2)\n",
    "\n",
    "#Then \n",
    "gauss = GPy.likelihoods.Gaussian(variance=sigma**2)\n",
    "\n",
    "# Then create the model, we give everything in lists\n",
    "m = GPy.core.GP(x, y, kernel = se, likelihood = gauss)\n",
    "\n",
    "#Print the model before optimization\n",
    "print(m)\n",
    "\n",
    "# Optimize the model\n",
    "m.optimize(messages=1, ipython_notebook=True)\n",
    " # Print the model after optimization\n",
    "print(m)\n",
    "\n",
    "fig, ax = plt.subplots()\n",
    "ax.set_title('Latent function')\n",
    "plt.plot(xpred, ypred, \"r\", label='Real function')\n",
    "m.plot(xlim=[0,11], ylim=[-1.5,5], ax=ax)"
   ]
  },
  {
   "cell_type": "code",
   "execution_count": null,
   "metadata": {},
   "outputs": [],
   "source": [
    "# squared exponential kernel:\n",
    "se = GPy.kern.RBF(input_dim = 1, lengthscale=1.5, variance=0.2)\n",
    "# We need to generate separate kernel for the derivative observations and give the created kernel as an input:\n",
    "se_der = GPy.kern.DiffKern(se, 0)\n",
    "\n",
    "#Then \n",
    "gauss = GPy.likelihoods.Gaussian(variance=sigma**2)\n",
    "probit = GPy.likelihoods.Binomial(gp_link = GPy.likelihoods.link_functions.Probit(nu=10, fixed=True))\n",
    "\n",
    "# Then create the model, we give everything in lists\n",
    "#m = GPy.core.MultioutputGP(X_list=[x, xd], Y_list=[y, yd], kernel_list=[se, se_der], likelihood_list = [gauss, probit], inference_method=GPy.inference.latent_function_inference.Laplace())\n",
    "m = GPy.core.MultioutputGP(X_list=[x], Y_list=[y], kernel_list=[se], likelihood_list = [gauss], inference_method=GPy.inference.latent_function_inference.Laplace())\n",
    "#m = GPy.core.GP(x,y, kernel=se, likelihood = gauss, inference_method=GPy.inference.latent_function_inference.Laplace())\n",
    "\n",
    "#Print the model before optimization\n",
    "print(m)\n",
    "\n",
    "# Optimize the model\n",
    "m.optimize(messages=1, ipython_notebook=True)\n",
    " # Print the model after optimization\n",
    "print(m)\n",
    "\n",
    "plot_gp_vs_real(m, xpred, ypred, [x.shape[0], xd.shape[0]], title='Latent function', fixed_input=0)"
   ]
  },
  {
   "cell_type": "markdown",
   "metadata": {
    "collapsed": true
   },
   "source": [
    "# Example 3:  2 dimensional data with direct derivative observations"
   ]
  },
  {
   "cell_type": "code",
   "execution_count": null,
   "metadata": {},
   "outputs": [],
   "source": [
    "f = lambda x: np.array([np.sin(x[:,0])+0.1*(x[:,1]-2.)**2-0.005*x[:,1]**3]).T\n",
    "fd = lambda x: np.array([np.cos(x[:,0]), 0.2*(x[:,1]-2.)-0.015*x[:,1]**2]).T\n",
    "N=15\n",
    "sigma = 0.05\n",
    "sigmader = 0.05\n",
    "x = 10*np.random.random((N,2))\n",
    "y = f(x) + np.array(sigma*np.random.normal(0,1,(N,1)))\n",
    "yd = fd(x) + np.array(sigma*np.random.normal(0,1,(N,2)))\n",
    "\n",
    "\n",
    "v = np.linspace(0,10,20)\n",
    "xv0, xv1 = np.meshgrid(v, v, sparse=False, indexing='ij')\n",
    "\n",
    "xt = np.array([xv0.reshape((-1)), xv1.reshape((-1))]).T\n",
    "yt = f(xt)\n",
    "\n",
    "plt.contourf(xv0, xv1, yt.reshape((20,20)), title='real function')\n",
    "plt.scatter(x[:,0], x[:,1])"
   ]
  },
  {
   "cell_type": "code",
   "execution_count": null,
   "metadata": {},
   "outputs": [],
   "source": [
    "# squared exponential kernel:\n",
    "se = GPy.kern.RBF(input_dim = 2, lengthscale=1.5, variance=0.2)\n",
    "# We need to generate separate kernel for the derivative observations and give the created kernel as an input:\n",
    "se_der0 = GPy.kern.DiffKern(se, 0)\n",
    "se_der1 = GPy.kern.DiffKern(se, 1)\n",
    "\n",
    "#Then \n",
    "gauss = GPy.likelihoods.Gaussian(variance=sigma**2)\n",
    "\n",
    "# Then create the model, we give everything in lists, the order of the inputs indicates the order of the outputs\n",
    "# Now we have the regular observations first and derivative observations second, meaning that the kernels and\n",
    "# the likelihoods must follow the same order\n",
    "m = GPy.core.MultioutputGP(X_list=[x, x, x], Y_list=[y, np.array([yd[:,0]]).T, np.array([yd[:,1]]).T], kernel_list=[se, se_der0, se_der1], likelihood_list = [gauss, gauss, gauss])\n",
    "#Print the model before optimization\n",
    "print(m)\n",
    "\n",
    "# Optimize the model\n",
    "m.optimize(messages=1, ipython_notebook=True)\n",
    " # Print the model after optimization\n",
    "print(m)\n",
    "\n",
    "#making predictions for the values:\n",
    "mu, var = m.predict_noiseless(Xnew=[xt])\n",
    "plt.contourf(xv0, xv1, mu.reshape((20,20)), title='real function')\n",
    "plt.scatter(x[:,0], x[:,1])"
   ]
  },
  {
   "cell_type": "code",
   "execution_count": null,
   "metadata": {},
   "outputs": [],
   "source": [
    "# squared exponential kernel:\n",
    "se = GPy.kern.RBF(input_dim = 2, lengthscale=1.5, variance=0.2)\n",
    "# We need to generate separate kernel for the derivative observations and give the created kernel as an input:\n",
    "se_der0 = GPy.kern.DiffKern(se, 0)\n",
    "se_der1 = GPy.kern.DiffKern(se, 1)\n",
    "\n",
    "#Then \n",
    "gauss = GPy.likelihoods.Gaussian(variance=sigma**2)\n",
    "\n",
    "# Then create the model, we give everything in lists, the order of the inputs indicates the order of the outputs\n",
    "# Now we have the regular observations first and derivative observations second, meaning that the kernels and\n",
    "# the likelihoods must follow the same order\n",
    "m = GPy.core.MultioutputGP(X_list=[x, x, x], Y_list=[y, np.array([yd[:,0]]).T, np.array([yd[:,1]]).T], kernel_list=[se, se_der0, se_der1], likelihood_list = [gauss, gauss, gauss], inference_method=GPy.inference.latent_function_inference.Laplace())\n",
    "\n",
    "#Print the model before optimization\n",
    "print(m)\n",
    "\n",
    "# Optimize the model\n",
    "m.optimize(messages=1, ipython_notebook=True)\n",
    " # Print the model after optimization\n",
    "print(m)\n",
    "\n",
    "\n",
    "\n",
    "#making predictions for the values:\n",
    "mu, var = m.predict_noiseless(Xnew=[xt])\n",
    "plt.contourf(xv0, xv1, mu.reshape((20,20)), title='real function')\n",
    "plt.scatter(x[:,0], x[:,1])"
   ]
  },
  {
   "cell_type": "code",
   "execution_count": null,
   "metadata": {},
   "outputs": [],
   "source": [
    "# squared exponential kernel:\n",
    "se = GPy.kern.RBF(input_dim = 2, lengthscale=1.5, variance=0.2, ARD=False)\n",
    "\n",
    "#Then \n",
    "gauss = GPy.likelihoods.Gaussian(variance=sigma**2)\n",
    "\n",
    "# Then create the model, we give everything in lists, the order of the inputs indicates the order of the outputs\n",
    "# Now we have the regular observations first and derivative observations second, meaning that the kernels and\n",
    "# the likelihoods must follow the same order\n",
    "m = GPy.core.GP(X=x, Y=y, kernel=se, likelihood=gauss)\n",
    "\n",
    "#Print the model before optimization\n",
    "print(m)\n",
    "\n",
    "# Optimize the model\n",
    "m.optimize(messages=1, ipython_notebook=True)\n",
    " # Print the model after optimization\n",
    "print(m)\n",
    "\n",
    "#making predictions for the values:\n",
    "mu, var = m.predict_noiseless(Xnew=xt)\n",
    "plt.contourf(xv0, xv1, mu.reshape((20,20)), title='real function')\n",
    "plt.scatter(x[:,0], x[:,1])"
   ]
  },
  {
   "cell_type": "markdown",
   "metadata": {},
   "source": [
    "# Example 4: 2 dimensional data with direct derivative observations and additive covariance function"
   ]
  },
  {
   "cell_type": "code",
   "execution_count": null,
   "metadata": {},
   "outputs": [],
   "source": [
    "# squared exponential kernel:\n",
    "se0 = GPy.kern.RBF(input_dim = 1, lengthscale=1.5, variance=0.2, active_dims=[0])\n",
    "se1 = GPy.kern.RBF(input_dim = 1, lengthscale=1.5, variance=0.2, active_dims=[1])\n",
    "\n",
    "se = se0 + se1\n",
    "# We need to generate separate kernel for the derivative observations and give the created kernel as an input:\n",
    "se_der0 = GPy.kern.DiffKern(se, 0)\n",
    "se_der1 = GPy.kern.DiffKern(se, 1)\n",
    "\n",
    "#Then \n",
    "gauss = GPy.likelihoods.Gaussian(variance=sigma**2)\n",
    "\n",
    "# Then create the model, we give everything in lists, the order of the inputs indicates the order of the outputs\n",
    "# Now we have the regular observations first and derivative observations second, meaning that the kernels and\n",
    "# the likelihoods must follow the same order\n",
    "m = GPy.core.MultioutputGP(X_list=[x, x, x], Y_list=[y, np.array([yd[:,0]]).T, np.array([yd[:,1]]).T], kernel_list=[se, se_der0, se_der1], likelihood_list = [gauss, gauss, gauss])\n",
    "#Print the model before optimization\n",
    "print(m)\n",
    "# Optimize the model\n",
    "m.optimize(messages=1, ipython_notebook=True)\n",
    " # Print the model after optimization\n",
    "print(m)\n",
    "\n",
    "\n",
    "\n",
    "#making predictions for the values:\n",
    "mu, var = m.predict_noiseless(Xnew=[xt])\n",
    "plt.contourf(xv0, xv1, mu.reshape((20,20)), title='real function')\n",
    "plt.scatter(x[:,0], x[:,1])"
   ]
  },
  {
   "cell_type": "code",
   "execution_count": null,
   "metadata": {},
   "outputs": [],
   "source": [
    "# squared exponential kernel:\n",
    "se0 = GPy.kern.RBF(input_dim = 1, lengthscale=1.5, variance=0.2, active_dims=[0])\n",
    "se1 = GPy.kern.RBF(input_dim = 1, lengthscale=1.5, variance=0.2, active_dims=[1])\n",
    "\n",
    "se = se0 + se1\n",
    "\n",
    "#Then \n",
    "gauss = GPy.likelihoods.Gaussian(variance=sigma**2)\n",
    "\n",
    "# Then create the model, we give everything in lists, the order of the inputs indicates the order of the outputs\n",
    "# Now we have the regular observations first and derivative observations second, meaning that the kernels and\n",
    "# the likelihoods must follow the same order\n",
    "m = GPy.core.GP(X=x, Y=y, kernel=se, likelihood = gauss)\n",
    "\n",
    "#Print the model before optimization\n",
    "print(m)\n",
    "# Optimize the model\n",
    "m.optimize(messages=1, ipython_notebook=True)\n",
    " # Print the model after optimization\n",
    "print(m)\n",
    "\n",
    "\n",
    "\n",
    "#making predictions for the values:\n",
    "mu, var = m.predict_noiseless(Xnew=xt)\n",
    "plt.contourf(xv0, xv1, mu.reshape((20,20)), title='real function')\n",
    "plt.scatter(x[:,0], x[:,1])"
   ]
  },
  {
   "cell_type": "code",
   "execution_count": null,
   "metadata": {
    "collapsed": true
   },
   "outputs": [],
   "source": []
  }
 ],
 "metadata": {
  "anaconda-cloud": {},
  "kernelspec": {
   "display_name": "Python [default]",
   "language": "python",
   "name": "python3"
  },
  "language_info": {
   "codemirror_mode": {
    "name": "ipython",
    "version": 3
   },
   "file_extension": ".py",
   "mimetype": "text/x-python",
   "name": "python",
   "nbconvert_exporter": "python",
   "pygments_lexer": "ipython3",
   "version": "3.6.2"
  }
 },
 "nbformat": 4,
 "nbformat_minor": 1
}
